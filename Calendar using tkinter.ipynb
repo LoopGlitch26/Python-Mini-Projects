{
 "cells": [
  {
   "cell_type": "code",
   "execution_count": 23,
   "metadata": {},
   "outputs": [],
   "source": [
    "from tkinter import*\n",
    "import calendar\n",
    "\n",
    "win = Tk()\n",
    "win.title(\"LoopGlitch Calendar\")\n",
    "\n",
    "def text():\n",
    "    year_str = year.get()\n",
    "    month_str = month.get()\n",
    "    year_int = int(year_str)\n",
    "    month_int = int (month_str)\n",
    "    cal = calendar.month(year_int, month_int)\n",
    "    textfield.delete(0.0, END)\n",
    "    textfield.insert(INSERT, cal)\n",
    "    \n",
    "label1 = Label(win, text = '{Year} ')   \n",
    "label1.grid(row = 0, column = 0)\n",
    "label1 = Label(win, text = '{Month} ')   \n",
    "label1.grid(row = 0, column = 1)\n",
    "\n",
    "year = Spinbox(win, from_= 1947, to = 2150, width = 24)\n",
    "year.grid(row = 1, column = 0, padx = 16)\n",
    "month = Spinbox(win, from_= 1, to = 12, width = 3)\n",
    "month.grid(row = 1, column = 1)\n",
    "\n",
    "button = Button(win, text = \"{GO}\", command = text)\n",
    "button.grid(row = 1, column = 2)\n",
    "\n",
    "textfield = Text(win, height = 10, width = 30, foreground = 'brown')\n",
    "textfield.grid(row = 3, columnspan = 3)\n",
    "\n",
    "win.mainloop()"
   ]
  },
  {
   "cell_type": "code",
   "execution_count": null,
   "metadata": {},
   "outputs": [],
   "source": []
  },
  {
   "cell_type": "code",
   "execution_count": null,
   "metadata": {},
   "outputs": [],
   "source": []
  },
  {
   "cell_type": "code",
   "execution_count": null,
   "metadata": {},
   "outputs": [],
   "source": []
  }
 ],
 "metadata": {
  "kernelspec": {
   "display_name": "Python 3",
   "language": "python",
   "name": "python3"
  },
  "language_info": {
   "codemirror_mode": {
    "name": "ipython",
    "version": 3
   },
   "file_extension": ".py",
   "mimetype": "text/x-python",
   "name": "python",
   "nbconvert_exporter": "python",
   "pygments_lexer": "ipython3",
   "version": "3.7.3"
  }
 },
 "nbformat": 4,
 "nbformat_minor": 2
}
